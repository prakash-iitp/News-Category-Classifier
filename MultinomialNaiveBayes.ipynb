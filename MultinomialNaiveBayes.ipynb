{
  "nbformat": 4,
  "nbformat_minor": 0,
  "metadata": {
    "colab": {
      "provenance": []
    },
    "kernelspec": {
      "name": "python3",
      "display_name": "Python 3"
    },
    "language_info": {
      "name": "python"
    }
  },
  "cells": [
    {
      "cell_type": "code",
      "execution_count": null,
      "metadata": {
        "id": "ByM7fuXwcm1n"
      },
      "outputs": [],
      "source": [
        "#importing google drive to load dataset\n",
        "from google.colab import drive"
      ]
    },
    {
      "cell_type": "code",
      "source": [
        "drive.mount('/content/drive')\n"
      ],
      "metadata": {
        "colab": {
          "base_uri": "https://localhost:8080/"
        },
        "id": "lH7ot-cmhaxr",
        "outputId": "4ad24d13-9944-4423-ed79-b43bca47595e"
      },
      "execution_count": null,
      "outputs": [
        {
          "output_type": "stream",
          "name": "stdout",
          "text": [
            "Drive already mounted at /content/drive; to attempt to forcibly remount, call drive.mount(\"/content/drive\", force_remount=True).\n"
          ]
        }
      ]
    },
    {
      "cell_type": "code",
      "source": [
        "#importing required libraries.\n",
        "#Note : only required libraries like nltk, pandas for simplification are used. No sci-kit libraries like naive bayes are used.\n",
        "\n",
        "import pandas as pd\n",
        "from collections import Counter\n",
        "import re\n",
        "import nltk\n",
        "from nltk.tokenize import word_tokenize\n",
        "from nltk.probability import FreqDist\n",
        "nltk.download('punkt')\n",
        "from nltk.corpus import stopwords\n",
        "from collections import defaultdict\n",
        "import numpy as np"
      ],
      "metadata": {
        "colab": {
          "base_uri": "https://localhost:8080/"
        },
        "id": "lKQ-J4OFkgBF",
        "outputId": "f4cba2af-2eb0-4ab7-ab41-09e3ffa64477"
      },
      "execution_count": null,
      "outputs": [
        {
          "output_type": "stream",
          "name": "stderr",
          "text": [
            "[nltk_data] Downloading package punkt to /root/nltk_data...\n",
            "[nltk_data]   Package punkt is already up-to-date!\n"
          ]
        }
      ]
    },
    {
      "cell_type": "code",
      "source": [
        "#loading json file in a variable df\n",
        "\n",
        "df = pd.read_json('/content/drive/MyDrive/dataset.json',lines=True)\n",
        "df"
      ],
      "metadata": {
        "id": "ITMD5Y40kiXP",
        "colab": {
          "base_uri": "https://localhost:8080/",
          "height": 718
        },
        "outputId": "8069bb99-62ad-4645-bbb4-e1918dc177d6"
      },
      "execution_count": null,
      "outputs": [
        {
          "output_type": "execute_result",
          "data": {
            "text/plain": [
              "                                        short_description  \\\n",
              "0       She left her husband. He killed their children...   \n",
              "1                                Of course it has a song.   \n",
              "2       The actor and his longtime girlfriend Anna Ebe...   \n",
              "3       The actor gives Dems an ass-kicking for not fi...   \n",
              "4       The \"Dietland\" actress said using the bags is ...   \n",
              "...                                                   ...   \n",
              "124984                                                      \n",
              "124985  I often hear people describe cooking for one a...   \n",
              "124986                                                      \n",
              "124987                                                      \n",
              "124988  Our thoughts and feelings are powerful, but ma...   \n",
              "\n",
              "                                                 headline       date  \\\n",
              "0       There Were 2 Mass Shootings In Texas Last Week... 2018-05-26   \n",
              "1       Will Smith Joins Diplo And Nicky Jam For The 2... 2018-05-26   \n",
              "2         Hugh Grant Marries For The First Time At Age 57 2018-05-26   \n",
              "3       Jim Carrey Blasts 'Castrato' Adam Schiff And D... 2018-05-26   \n",
              "4       Julianna Margulies Uses Donald Trump Poop Bags... 2018-05-26   \n",
              "...                                                   ...        ...   \n",
              "124984             Why I Thought I'd Never Live To See 33 2014-04-18   \n",
              "124985                      Five Tips For Cooking For One 2014-04-18   \n",
              "124986   Police Want your Home Video Surveillance Footage 2014-04-18   \n",
              "124987                              Ouch, Natalie Morales 2014-04-18   \n",
              "124988                            Reasons Not to Be Happy 2014-04-18   \n",
              "\n",
              "                                                     link  \\\n",
              "0       https://www.huffingtonpost.com/entry/texas-ama...   \n",
              "1       https://www.huffingtonpost.com/entry/will-smit...   \n",
              "2       https://www.huffingtonpost.com/entry/hugh-gran...   \n",
              "3       https://www.huffingtonpost.com/entry/jim-carre...   \n",
              "4       https://www.huffingtonpost.com/entry/julianna-...   \n",
              "...                                                   ...   \n",
              "124984  https://www.huffingtonpost.com/entry/a-black-g...   \n",
              "124985  https://www.huffingtonpost.com/entry/five-tips...   \n",
              "124986  https://www.huffingtonpost.com/entry/police-wa...   \n",
              "124987  https://www.huffingtonpost.com/entry/natalie-m...   \n",
              "124988  https://www.huffingtonpost.com/entry/happiness...   \n",
              "\n",
              "                                                  authors        category  \n",
              "0                                         Melissa Jeltsen           CRIME  \n",
              "1                                           Andy McDonald   ENTERTAINMENT  \n",
              "2                                              Ron Dicker   ENTERTAINMENT  \n",
              "3                                              Ron Dicker   ENTERTAINMENT  \n",
              "4                                              Ron Dicker   ENTERTAINMENT  \n",
              "...                                                   ...             ...  \n",
              "124984                                                              WOMEN  \n",
              "124985         Food Riot, ContributorPlay with your food.           TASTE  \n",
              "124986  Robert Siciliano, ContributorPersonal Security...           CRIME  \n",
              "124987                                     Katherine Fung           MEDIA  \n",
              "124988  Mindy Utay, Contributor\"Calming Life's Conflicts\"  HEALTHY LIVING  \n",
              "\n",
              "[124989 rows x 6 columns]"
            ],
            "text/html": [
              "\n",
              "  <div id=\"df-b92557d1-8705-44bf-9ba7-8bd40de85880\" class=\"colab-df-container\">\n",
              "    <div>\n",
              "<style scoped>\n",
              "    .dataframe tbody tr th:only-of-type {\n",
              "        vertical-align: middle;\n",
              "    }\n",
              "\n",
              "    .dataframe tbody tr th {\n",
              "        vertical-align: top;\n",
              "    }\n",
              "\n",
              "    .dataframe thead th {\n",
              "        text-align: right;\n",
              "    }\n",
              "</style>\n",
              "<table border=\"1\" class=\"dataframe\">\n",
              "  <thead>\n",
              "    <tr style=\"text-align: right;\">\n",
              "      <th></th>\n",
              "      <th>short_description</th>\n",
              "      <th>headline</th>\n",
              "      <th>date</th>\n",
              "      <th>link</th>\n",
              "      <th>authors</th>\n",
              "      <th>category</th>\n",
              "    </tr>\n",
              "  </thead>\n",
              "  <tbody>\n",
              "    <tr>\n",
              "      <th>0</th>\n",
              "      <td>She left her husband. He killed their children...</td>\n",
              "      <td>There Were 2 Mass Shootings In Texas Last Week...</td>\n",
              "      <td>2018-05-26</td>\n",
              "      <td>https://www.huffingtonpost.com/entry/texas-ama...</td>\n",
              "      <td>Melissa Jeltsen</td>\n",
              "      <td>CRIME</td>\n",
              "    </tr>\n",
              "    <tr>\n",
              "      <th>1</th>\n",
              "      <td>Of course it has a song.</td>\n",
              "      <td>Will Smith Joins Diplo And Nicky Jam For The 2...</td>\n",
              "      <td>2018-05-26</td>\n",
              "      <td>https://www.huffingtonpost.com/entry/will-smit...</td>\n",
              "      <td>Andy McDonald</td>\n",
              "      <td>ENTERTAINMENT</td>\n",
              "    </tr>\n",
              "    <tr>\n",
              "      <th>2</th>\n",
              "      <td>The actor and his longtime girlfriend Anna Ebe...</td>\n",
              "      <td>Hugh Grant Marries For The First Time At Age 57</td>\n",
              "      <td>2018-05-26</td>\n",
              "      <td>https://www.huffingtonpost.com/entry/hugh-gran...</td>\n",
              "      <td>Ron Dicker</td>\n",
              "      <td>ENTERTAINMENT</td>\n",
              "    </tr>\n",
              "    <tr>\n",
              "      <th>3</th>\n",
              "      <td>The actor gives Dems an ass-kicking for not fi...</td>\n",
              "      <td>Jim Carrey Blasts 'Castrato' Adam Schiff And D...</td>\n",
              "      <td>2018-05-26</td>\n",
              "      <td>https://www.huffingtonpost.com/entry/jim-carre...</td>\n",
              "      <td>Ron Dicker</td>\n",
              "      <td>ENTERTAINMENT</td>\n",
              "    </tr>\n",
              "    <tr>\n",
              "      <th>4</th>\n",
              "      <td>The \"Dietland\" actress said using the bags is ...</td>\n",
              "      <td>Julianna Margulies Uses Donald Trump Poop Bags...</td>\n",
              "      <td>2018-05-26</td>\n",
              "      <td>https://www.huffingtonpost.com/entry/julianna-...</td>\n",
              "      <td>Ron Dicker</td>\n",
              "      <td>ENTERTAINMENT</td>\n",
              "    </tr>\n",
              "    <tr>\n",
              "      <th>...</th>\n",
              "      <td>...</td>\n",
              "      <td>...</td>\n",
              "      <td>...</td>\n",
              "      <td>...</td>\n",
              "      <td>...</td>\n",
              "      <td>...</td>\n",
              "    </tr>\n",
              "    <tr>\n",
              "      <th>124984</th>\n",
              "      <td></td>\n",
              "      <td>Why I Thought I'd Never Live To See 33</td>\n",
              "      <td>2014-04-18</td>\n",
              "      <td>https://www.huffingtonpost.com/entry/a-black-g...</td>\n",
              "      <td></td>\n",
              "      <td>WOMEN</td>\n",
              "    </tr>\n",
              "    <tr>\n",
              "      <th>124985</th>\n",
              "      <td>I often hear people describe cooking for one a...</td>\n",
              "      <td>Five Tips For Cooking For One</td>\n",
              "      <td>2014-04-18</td>\n",
              "      <td>https://www.huffingtonpost.com/entry/five-tips...</td>\n",
              "      <td>Food Riot, ContributorPlay with your food.</td>\n",
              "      <td>TASTE</td>\n",
              "    </tr>\n",
              "    <tr>\n",
              "      <th>124986</th>\n",
              "      <td></td>\n",
              "      <td>Police Want your Home Video Surveillance Footage</td>\n",
              "      <td>2014-04-18</td>\n",
              "      <td>https://www.huffingtonpost.com/entry/police-wa...</td>\n",
              "      <td>Robert Siciliano, ContributorPersonal Security...</td>\n",
              "      <td>CRIME</td>\n",
              "    </tr>\n",
              "    <tr>\n",
              "      <th>124987</th>\n",
              "      <td></td>\n",
              "      <td>Ouch, Natalie Morales</td>\n",
              "      <td>2014-04-18</td>\n",
              "      <td>https://www.huffingtonpost.com/entry/natalie-m...</td>\n",
              "      <td>Katherine Fung</td>\n",
              "      <td>MEDIA</td>\n",
              "    </tr>\n",
              "    <tr>\n",
              "      <th>124988</th>\n",
              "      <td>Our thoughts and feelings are powerful, but ma...</td>\n",
              "      <td>Reasons Not to Be Happy</td>\n",
              "      <td>2014-04-18</td>\n",
              "      <td>https://www.huffingtonpost.com/entry/happiness...</td>\n",
              "      <td>Mindy Utay, Contributor\"Calming Life's Conflicts\"</td>\n",
              "      <td>HEALTHY LIVING</td>\n",
              "    </tr>\n",
              "  </tbody>\n",
              "</table>\n",
              "<p>124989 rows × 6 columns</p>\n",
              "</div>\n",
              "    <div class=\"colab-df-buttons\">\n",
              "\n",
              "  <div class=\"colab-df-container\">\n",
              "    <button class=\"colab-df-convert\" onclick=\"convertToInteractive('df-b92557d1-8705-44bf-9ba7-8bd40de85880')\"\n",
              "            title=\"Convert this dataframe to an interactive table.\"\n",
              "            style=\"display:none;\">\n",
              "\n",
              "  <svg xmlns=\"http://www.w3.org/2000/svg\" height=\"24px\" viewBox=\"0 -960 960 960\">\n",
              "    <path d=\"M120-120v-720h720v720H120Zm60-500h600v-160H180v160Zm220 220h160v-160H400v160Zm0 220h160v-160H400v160ZM180-400h160v-160H180v160Zm440 0h160v-160H620v160ZM180-180h160v-160H180v160Zm440 0h160v-160H620v160Z\"/>\n",
              "  </svg>\n",
              "    </button>\n",
              "\n",
              "  <style>\n",
              "    .colab-df-container {\n",
              "      display:flex;\n",
              "      gap: 12px;\n",
              "    }\n",
              "\n",
              "    .colab-df-convert {\n",
              "      background-color: #E8F0FE;\n",
              "      border: none;\n",
              "      border-radius: 50%;\n",
              "      cursor: pointer;\n",
              "      display: none;\n",
              "      fill: #1967D2;\n",
              "      height: 32px;\n",
              "      padding: 0 0 0 0;\n",
              "      width: 32px;\n",
              "    }\n",
              "\n",
              "    .colab-df-convert:hover {\n",
              "      background-color: #E2EBFA;\n",
              "      box-shadow: 0px 1px 2px rgba(60, 64, 67, 0.3), 0px 1px 3px 1px rgba(60, 64, 67, 0.15);\n",
              "      fill: #174EA6;\n",
              "    }\n",
              "\n",
              "    .colab-df-buttons div {\n",
              "      margin-bottom: 4px;\n",
              "    }\n",
              "\n",
              "    [theme=dark] .colab-df-convert {\n",
              "      background-color: #3B4455;\n",
              "      fill: #D2E3FC;\n",
              "    }\n",
              "\n",
              "    [theme=dark] .colab-df-convert:hover {\n",
              "      background-color: #434B5C;\n",
              "      box-shadow: 0px 1px 3px 1px rgba(0, 0, 0, 0.15);\n",
              "      filter: drop-shadow(0px 1px 2px rgba(0, 0, 0, 0.3));\n",
              "      fill: #FFFFFF;\n",
              "    }\n",
              "  </style>\n",
              "\n",
              "    <script>\n",
              "      const buttonEl =\n",
              "        document.querySelector('#df-b92557d1-8705-44bf-9ba7-8bd40de85880 button.colab-df-convert');\n",
              "      buttonEl.style.display =\n",
              "        google.colab.kernel.accessAllowed ? 'block' : 'none';\n",
              "\n",
              "      async function convertToInteractive(key) {\n",
              "        const element = document.querySelector('#df-b92557d1-8705-44bf-9ba7-8bd40de85880');\n",
              "        const dataTable =\n",
              "          await google.colab.kernel.invokeFunction('convertToInteractive',\n",
              "                                                    [key], {});\n",
              "        if (!dataTable) return;\n",
              "\n",
              "        const docLinkHtml = 'Like what you see? Visit the ' +\n",
              "          '<a target=\"_blank\" href=https://colab.research.google.com/notebooks/data_table.ipynb>data table notebook</a>'\n",
              "          + ' to learn more about interactive tables.';\n",
              "        element.innerHTML = '';\n",
              "        dataTable['output_type'] = 'display_data';\n",
              "        await google.colab.output.renderOutput(dataTable, element);\n",
              "        const docLink = document.createElement('div');\n",
              "        docLink.innerHTML = docLinkHtml;\n",
              "        element.appendChild(docLink);\n",
              "      }\n",
              "    </script>\n",
              "  </div>\n",
              "\n",
              "\n",
              "<div id=\"df-e37e9329-ee91-4908-9703-50921649618d\">\n",
              "  <button class=\"colab-df-quickchart\" onclick=\"quickchart('df-e37e9329-ee91-4908-9703-50921649618d')\"\n",
              "            title=\"Suggest charts\"\n",
              "            style=\"display:none;\">\n",
              "\n",
              "<svg xmlns=\"http://www.w3.org/2000/svg\" height=\"24px\"viewBox=\"0 0 24 24\"\n",
              "     width=\"24px\">\n",
              "    <g>\n",
              "        <path d=\"M19 3H5c-1.1 0-2 .9-2 2v14c0 1.1.9 2 2 2h14c1.1 0 2-.9 2-2V5c0-1.1-.9-2-2-2zM9 17H7v-7h2v7zm4 0h-2V7h2v10zm4 0h-2v-4h2v4z\"/>\n",
              "    </g>\n",
              "</svg>\n",
              "  </button>\n",
              "\n",
              "<style>\n",
              "  .colab-df-quickchart {\n",
              "      --bg-color: #E8F0FE;\n",
              "      --fill-color: #1967D2;\n",
              "      --hover-bg-color: #E2EBFA;\n",
              "      --hover-fill-color: #174EA6;\n",
              "      --disabled-fill-color: #AAA;\n",
              "      --disabled-bg-color: #DDD;\n",
              "  }\n",
              "\n",
              "  [theme=dark] .colab-df-quickchart {\n",
              "      --bg-color: #3B4455;\n",
              "      --fill-color: #D2E3FC;\n",
              "      --hover-bg-color: #434B5C;\n",
              "      --hover-fill-color: #FFFFFF;\n",
              "      --disabled-bg-color: #3B4455;\n",
              "      --disabled-fill-color: #666;\n",
              "  }\n",
              "\n",
              "  .colab-df-quickchart {\n",
              "    background-color: var(--bg-color);\n",
              "    border: none;\n",
              "    border-radius: 50%;\n",
              "    cursor: pointer;\n",
              "    display: none;\n",
              "    fill: var(--fill-color);\n",
              "    height: 32px;\n",
              "    padding: 0;\n",
              "    width: 32px;\n",
              "  }\n",
              "\n",
              "  .colab-df-quickchart:hover {\n",
              "    background-color: var(--hover-bg-color);\n",
              "    box-shadow: 0 1px 2px rgba(60, 64, 67, 0.3), 0 1px 3px 1px rgba(60, 64, 67, 0.15);\n",
              "    fill: var(--button-hover-fill-color);\n",
              "  }\n",
              "\n",
              "  .colab-df-quickchart-complete:disabled,\n",
              "  .colab-df-quickchart-complete:disabled:hover {\n",
              "    background-color: var(--disabled-bg-color);\n",
              "    fill: var(--disabled-fill-color);\n",
              "    box-shadow: none;\n",
              "  }\n",
              "\n",
              "  .colab-df-spinner {\n",
              "    border: 2px solid var(--fill-color);\n",
              "    border-color: transparent;\n",
              "    border-bottom-color: var(--fill-color);\n",
              "    animation:\n",
              "      spin 1s steps(1) infinite;\n",
              "  }\n",
              "\n",
              "  @keyframes spin {\n",
              "    0% {\n",
              "      border-color: transparent;\n",
              "      border-bottom-color: var(--fill-color);\n",
              "      border-left-color: var(--fill-color);\n",
              "    }\n",
              "    20% {\n",
              "      border-color: transparent;\n",
              "      border-left-color: var(--fill-color);\n",
              "      border-top-color: var(--fill-color);\n",
              "    }\n",
              "    30% {\n",
              "      border-color: transparent;\n",
              "      border-left-color: var(--fill-color);\n",
              "      border-top-color: var(--fill-color);\n",
              "      border-right-color: var(--fill-color);\n",
              "    }\n",
              "    40% {\n",
              "      border-color: transparent;\n",
              "      border-right-color: var(--fill-color);\n",
              "      border-top-color: var(--fill-color);\n",
              "    }\n",
              "    60% {\n",
              "      border-color: transparent;\n",
              "      border-right-color: var(--fill-color);\n",
              "    }\n",
              "    80% {\n",
              "      border-color: transparent;\n",
              "      border-right-color: var(--fill-color);\n",
              "      border-bottom-color: var(--fill-color);\n",
              "    }\n",
              "    90% {\n",
              "      border-color: transparent;\n",
              "      border-bottom-color: var(--fill-color);\n",
              "    }\n",
              "  }\n",
              "</style>\n",
              "\n",
              "  <script>\n",
              "    async function quickchart(key) {\n",
              "      const quickchartButtonEl =\n",
              "        document.querySelector('#' + key + ' button');\n",
              "      quickchartButtonEl.disabled = true;  // To prevent multiple clicks.\n",
              "      quickchartButtonEl.classList.add('colab-df-spinner');\n",
              "      try {\n",
              "        const charts = await google.colab.kernel.invokeFunction(\n",
              "            'suggestCharts', [key], {});\n",
              "      } catch (error) {\n",
              "        console.error('Error during call to suggestCharts:', error);\n",
              "      }\n",
              "      quickchartButtonEl.classList.remove('colab-df-spinner');\n",
              "      quickchartButtonEl.classList.add('colab-df-quickchart-complete');\n",
              "    }\n",
              "    (() => {\n",
              "      let quickchartButtonEl =\n",
              "        document.querySelector('#df-e37e9329-ee91-4908-9703-50921649618d button');\n",
              "      quickchartButtonEl.style.display =\n",
              "        google.colab.kernel.accessAllowed ? 'block' : 'none';\n",
              "    })();\n",
              "  </script>\n",
              "</div>\n",
              "    </div>\n",
              "  </div>\n"
            ]
          },
          "metadata": {},
          "execution_count": 10
        }
      ]
    },
    {
      "cell_type": "code",
      "source": [
        "#extracting only the required the given categories\n",
        "\n",
        "filtered_df = df[df['category'].isin(['COMEDY','BUSINESS', 'SPORTS', 'CRIME','RELIGION','HEALTHY LIVING', 'POLITICS'])]\n",
        "filtered_df_shuffle = filtered_df.sample(frac=1,random_state=42)\n",
        "\n",
        "total_rows = len(filtered_df_shuffle)\n",
        "train_rows = int(0.85*total_rows)\n",
        "test_rows = total_rows-train_rows\n",
        "#dividing the data into 85% training and 15% testing\n",
        "\n",
        "train_df = filtered_df_shuffle.iloc[:train_rows, :]\n",
        "test_df = filtered_df_shuffle.iloc[train_rows:, :]"
      ],
      "metadata": {
        "id": "e8mzGbzhvvsR"
      },
      "execution_count": null,
      "outputs": []
    },
    {
      "cell_type": "code",
      "source": [
        "#finding total no of unique categories. (for training)\n",
        "\n",
        "uniq_categ = train_df['category'].value_counts()\n",
        "total =0\n",
        "for i in range(0,len(uniq_categ)):\n",
        "  total+=uniq_categ[i]\n",
        "\n",
        "uniq_categ\n"
      ],
      "metadata": {
        "id": "5u1Jvq55wZr5",
        "colab": {
          "base_uri": "https://localhost:8080/"
        },
        "outputId": "32b771bd-bd21-4cb1-f3d4-1a1c6cc15891"
      },
      "execution_count": null,
      "outputs": [
        {
          "output_type": "execute_result",
          "data": {
            "text/plain": [
              "POLITICS          27849\n",
              "HEALTHY LIVING     5663\n",
              "BUSINESS           3625\n",
              "SPORTS             3543\n",
              "COMEDY             3333\n",
              "CRIME              2502\n",
              "RELIGION           2167\n",
              "Name: category, dtype: int64"
            ]
          },
          "metadata": {},
          "execution_count": 19
        }
      ]
    },
    {
      "cell_type": "code",
      "source": [
        "#finding total no of uniques categories. (for testing)\n",
        "\n",
        "uniq_cat = test_df['category'].value_counts()\n",
        "total_test =0\n",
        "for i in range(0,len(uniq_cat)):\n",
        "  total_test+=uniq_cat[i]\n",
        "\n",
        "total_test"
      ],
      "metadata": {
        "colab": {
          "base_uri": "https://localhost:8080/"
        },
        "id": "GyYCLJRjlwWr",
        "outputId": "40a60e6d-9fa4-485c-d102-210899ad9db8"
      },
      "execution_count": null,
      "outputs": [
        {
          "output_type": "execute_result",
          "data": {
            "text/plain": [
              "8592"
            ]
          },
          "metadata": {},
          "execution_count": 13
        }
      ]
    },
    {
      "cell_type": "code",
      "source": [
        "#finding total no of words in each category and calculating prior probabilites of each category. (for training)\n",
        "\n",
        "prior = {}\n",
        "for category,count in uniq_categ.items():\n",
        "  prob = count/total\n",
        "  prior[category] = {'count':count,'prob': prob}\n",
        "\n",
        "for category in uniq_categ.items():\n",
        "  print(category[0])"
      ],
      "metadata": {
        "colab": {
          "base_uri": "https://localhost:8080/"
        },
        "id": "OLtVtA1ko4Bt",
        "outputId": "f25a2edf-1f3a-4b39-e984-a76ad2ce23de"
      },
      "execution_count": null,
      "outputs": [
        {
          "output_type": "stream",
          "name": "stdout",
          "text": [
            "POLITICS\n",
            "HEALTHY LIVING\n",
            "BUSINESS\n",
            "SPORTS\n",
            "COMEDY\n",
            "CRIME\n",
            "RELIGION\n"
          ]
        }
      ]
    },
    {
      "cell_type": "code",
      "source": [
        "#finding total no of words in each category and calculating prior probabilites of each category. (for testing)\n",
        "\n",
        "prior_test = {}\n",
        "for category,count in uniq_cat.items():\n",
        "  prob = count/total_test\n",
        "  prior_test[category] = {'count':count,'prob': prob}\n",
        "\n",
        "for category in uniq_cat.items():\n",
        "  print(category[0])"
      ],
      "metadata": {
        "colab": {
          "base_uri": "https://localhost:8080/"
        },
        "id": "_zVlGXlxrzBG",
        "outputId": "5fb9c527-f442-48b5-9ffa-d5225655608a"
      },
      "execution_count": null,
      "outputs": [
        {
          "output_type": "stream",
          "name": "stdout",
          "text": [
            "POLITICS\n",
            "HEALTHY LIVING\n",
            "COMEDY\n",
            "BUSINESS\n",
            "SPORTS\n",
            "CRIME\n",
            "RELIGION\n"
          ]
        }
      ]
    },
    {
      "cell_type": "code",
      "source": [
        "# we are calculating count of each word in each category.\n",
        "# for this we remove all the stopwords, punctuations and join the all the descriptions belonging to a particular cateogry into single string.\n",
        "# then all we are left with are content words.\n",
        "\n",
        "all_desc = ' '.join(train_df['short_description'])\n",
        "all_words = re.findall(r'\\b\\w+\\b',all_desc.lower())\n",
        "categ_word_count = {}\n",
        "unique_words_count = {}\n",
        "filtered= []\n",
        "import string\n",
        "nltk.download('stopwords')\n",
        "stop_words = set(stopwords.words('english'))\n",
        "translator = str.maketrans('', '', string.punctuation)\n",
        "\n",
        "\n",
        "#for each word we are calculating its count in a particular category.\n",
        "# basically that's we are doing in this following lines\n",
        "\n",
        "for category in train_df['category'].unique():\n",
        "  category_df = train_df[train_df['category']==category]\n",
        "\n",
        "  category_words = ' '.join(category_df['short_description'])\n",
        "  words = word_tokenize(category_words.lower())\n",
        "\n",
        "  content_words = [word for word in words if word.isalpha() and word not in stop_words]\n",
        "  unique_words = set(content_words)\n",
        "  filtered = content_words\n",
        "  word_freq = FreqDist(content_words)\n",
        "  categ_word_count[category] = word_freq\n",
        "  unique_words_count[category] = len(unique_words)\n"
      ],
      "metadata": {
        "colab": {
          "base_uri": "https://localhost:8080/"
        },
        "id": "XVy35LwoqZaT",
        "outputId": "402dc5ab-5bc1-4221-e214-16c5851d314c"
      },
      "execution_count": null,
      "outputs": [
        {
          "output_type": "stream",
          "name": "stderr",
          "text": [
            "[nltk_data] Downloading package stopwords to /root/nltk_data...\n",
            "[nltk_data]   Unzipping corpora/stopwords.zip.\n"
          ]
        }
      ]
    },
    {
      "cell_type": "code",
      "source": [
        "categ_word_count"
      ],
      "metadata": {
        "colab": {
          "base_uri": "https://localhost:8080/"
        },
        "id": "_Q1p0mDnJSd8",
        "outputId": "66a9256c-b218-4cf8-e68b-76278e4d692f"
      },
      "execution_count": null,
      "outputs": [
        {
          "output_type": "execute_result",
          "data": {
            "text/plain": [
              "{'POLITICS': FreqDist({'trump': 3312, 'president': 1988, 'said': 1710, 'one': 1231, 'donald': 1168, 'people': 1128, 'would': 1117, 'new': 1078, 'state': 937, 'house': 772, ...}),\n",
              " 'HEALTHY LIVING': FreqDist({'life': 422, 'one': 376, 'people': 348, 'health': 342, 'time': 339, 'us': 290, 'new': 251, 'may': 241, 'make': 230, 'like': 230, ...}),\n",
              " 'COMEDY': FreqDist({'like': 162, 'trump': 138, 'one': 109, 'host': 109, 'show': 105, 'president': 100, 'people': 91, 'get': 85, 'late': 78, 'know': 74, ...}),\n",
              " 'BUSINESS': FreqDist({'business': 278, 'new': 270, 'people': 216, 'one': 211, 'company': 194, 'time': 172, 'many': 156, 'work': 153, 'make': 151, 'world': 133, ...}),\n",
              " 'SPORTS': FreqDist({'team': 138, 'one': 130, 'said': 118, 'like': 114, 'game': 114, 'first': 107, 'football': 101, 'new': 98, 'nfl': 98, 'sports': 92, ...}),\n",
              " 'CRIME': FreqDist({'police': 261, 'said': 216, 'people': 105, 'one': 98, 'man': 90, 'say': 88, 'two': 86, 'suspect': 82, 'shot': 79, 'shooting': 73, ...}),\n",
              " 'RELIGION': FreqDist({'people': 156, 'one': 134, 'us': 123, 'god': 108, 'church': 105, 'need': 101, 'religious': 100, 'spiritual': 92, 'world': 92, 'time': 89, ...})}"
            ]
          },
          "metadata": {},
          "execution_count": 25
        }
      ]
    },
    {
      "cell_type": "code",
      "source": [
        "unique_words_count"
      ],
      "metadata": {
        "colab": {
          "base_uri": "https://localhost:8080/"
        },
        "id": "sidtU-paImfo",
        "outputId": "7ff21328-eb2b-470d-ec10-5ef4836c8a95"
      },
      "execution_count": null,
      "outputs": [
        {
          "output_type": "execute_result",
          "data": {
            "text/plain": [
              "{'POLITICS': 21035,\n",
              " 'HEALTHY LIVING': 10058,\n",
              " 'COMEDY': 5881,\n",
              " 'BUSINESS': 9180,\n",
              " 'SPORTS': 6789,\n",
              " 'CRIME': 5426,\n",
              " 'RELIGION': 6443}"
            ]
          },
          "metadata": {},
          "execution_count": 24
        }
      ]
    },
    {
      "cell_type": "code",
      "source": [
        "# in this following lines what we are doing is :\n",
        "# for each row in training set we are converting its description into a single string\n",
        "# then for each category, we are iterating over this string and calculating the probability of each word\n",
        "# occuring in that category by the Multinomial formula\n",
        "\n",
        "correct =0\n",
        "category_count={}\n",
        "category_correct={}\n",
        "print(\"Category-wise accuracy : \")\n",
        "for category in uniq_categ.items():\n",
        "  category_count[category[0]] = 0  # Initialize the count for each category\n",
        "  category_correct[category[0]] = 0  # Initialize the correct prediction count for each category\n",
        "for i in range(0,len(test_df)):\n",
        "  #print(test_df.iloc[i])\n",
        "  string = test_df.iloc[i]['short_description']\n",
        "  cat = test_df.iloc[i]['category']\n",
        "  words1 = re.findall(r'\\b\\w+\\b',string.lower())\n",
        "  words = word_tokenize(string.lower())\n",
        "  word = set(words)\n",
        "  res_prob={}\n",
        "  for category in uniq_categ.items():\n",
        "    group_prob=np.log(prior[category[0]]['prob'])\n",
        "    for w in word:\n",
        "      word_count = categ_word_count[category[0]][w]\n",
        "      res = np.log((1+word_count))-np.log((10000*unique_words_count[category[0]]+category[1])) # applying the multinomial formula\n",
        "      group_prob+=res\n",
        "\n",
        "    res_prob[category[0]]= group_prob\n",
        "\n",
        "  #print(res_prob)\n",
        "  max_categ = max(res_prob,key=res_prob.get) # finding category with max probability.\n",
        "  #category_count[category[0]]+=1\n",
        "  # print(max_categ)\n",
        "  if cat==max_categ:\n",
        "    category_correct[max_categ]+=1\n",
        "    correct+=1\n",
        "  #print(\"predicted: \",max_categ)\n",
        "  #print(\"---------------------------------------\")\n",
        "for category in uniq_categ.items():\n",
        "  print(category[0],\" = \",((category_correct[category[0]])/(prior_test[category[0]]['count']))*100)\n",
        "print(\"Overall Accuracy : \",((correct)/len(test_df))*100)\n",
        "\n",
        "\n",
        "\n",
        "\n",
        "\n",
        "\n"
      ],
      "metadata": {
        "colab": {
          "base_uri": "https://localhost:8080/"
        },
        "id": "pSklXftS3M3G",
        "outputId": "bdb7dee6-6a4d-4300-97a8-a286264da69e"
      },
      "execution_count": null,
      "outputs": [
        {
          "output_type": "stream",
          "name": "stdout",
          "text": [
            "Category-wise accuracy : \n",
            "POLITICS  =  59.6319018404908\n",
            "HEALTHY LIVING  =  42.09505334626576\n",
            "BUSINESS  =  29.88871224165342\n",
            "SPORTS  =  41.02564102564102\n",
            "COMEDY  =  42.31974921630094\n",
            "CRIME  =  60.61381074168798\n",
            "RELIGION  =  38.56041131105398\n",
            "Overall Accuracy :  51.80400372439479\n"
          ]
        }
      ]
    }
  ]
}